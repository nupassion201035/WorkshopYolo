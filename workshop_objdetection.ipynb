{
 "cells": [
  {
   "cell_type": "markdown",
   "id": "881e35fa",
   "metadata": {},
   "source": [
    "## Computer Vision\n",
    " คือ สาขาหนึ่งของปัญญาประดิษฐ์ (AI) ที่เกี่ยวข้องกับการทำให้คอมพิวเตอร์สามารถ \"เข้าใจ\" และ \"ตีความ\" ข้อมูลจากภาพหรือวิดีโอ เช่น การตรวจจับวัตถุ การจำแนกประเภทภาพ การติดตามวัตถุ และการวิเคราะห์ฉาก โดยใช้เทคนิคต่าง ๆ เช่น การประมวลผลภาพ (Image Processing), การเรียนรู้ของเครื่อง (Machine Learning), และ Deep Learning\n",
    "\n",
    "<img src=\"https://lh3.googleusercontent.com/d/1mi3yDnAzP58QYOzMzUyAQ_kM7zsLtJkG\" alt=\"\">"
   ]
  },
  {
   "cell_type": "markdown",
   "id": "5c4a1d92",
   "metadata": {},
   "source": [
    "## Object Detection\n",
    "การตรวจจับวัตถุ คือ เทคโนโลยีในทางคอมพิวเตอร์ หลักการที่เกี่ยวกับ Computer Vision และ Image Processing ที่ใช้ในงาน AI ตรวจจับวัตถุชนิดที่กำหนด เช่น มนุษย์ รถยนต์ อาคาร ที่อยู่ในรูปภาพ หรือวิดีโอ\n",
    "\n",
    "<img src=\"https://lh3.googleusercontent.com/d/19mH7SyKNqu_YCTs-1_suOzzAaTVoB4jj\" alt=\"\">"
   ]
  },
  {
   "cell_type": "markdown",
   "id": "591174b1",
   "metadata": {},
   "source": [
    "## Install Yolo"
   ]
  },
  {
   "cell_type": "code",
   "execution_count": null,
   "id": "fec0939a",
   "metadata": {},
   "outputs": [],
   "source": [
    "!pip install -q ultralytics"
   ]
  },
  {
   "cell_type": "markdown",
   "id": "0607644d",
   "metadata": {},
   "source": [
    "## Import Libraries"
   ]
  },
  {
   "cell_type": "code",
   "execution_count": null,
   "id": "79522d8a",
   "metadata": {},
   "outputs": [],
   "source": [
    "import requests\n",
    "from PIL import Image\n",
    "import matplotlib.pyplot as plt\n",
    "import matplotlib.patches as patches\n",
    "from ultralytics import YOLO\n",
    "from io import BytesIO\n",
    "import numpy as np\n",
    "import os\n",
    "import random\n",
    "import cv2\n",
    "# import sys"
   ]
  },
  {
   "cell_type": "markdown",
   "id": "3c0751b9",
   "metadata": {},
   "source": [
    "## Load an Image"
   ]
  },
  {
   "cell_type": "code",
   "execution_count": null,
   "id": "f3ddf7cf",
   "metadata": {},
   "outputs": [],
   "source": [
    "# np.set_printoptions(threshold=sys.maxsize)  # Set print options to show all elements in the array\n",
    "image_url = \"https://www.marinij.com/wp-content/uploads/2022/03/MIJ-L-GUIDEDOGS-03XX-20.jpg?w=1860\"\n",
    "\n",
    "response = requests.get(image_url)\n",
    "image = Image.open(BytesIO(response.content))\n",
    "image = image.convert('RGB')  # Make sure it's RGB\n",
    "image_array = np.array(image)\n",
    "plt.imshow(image)\n",
    "\n",
    "print(f\"Image shape: {image_array.shape}\")\n",
    "# print(image_array)\n",
    "\n",
    "print(image_array)\n",
    "\n"
   ]
  },
  {
   "cell_type": "markdown",
   "id": "5b157175",
   "metadata": {},
   "source": [
    "## Image Components"
   ]
  },
  {
   "cell_type": "code",
   "execution_count": null,
   "id": "ef3ec03a",
   "metadata": {},
   "outputs": [],
   "source": [
    "#show red, green, and blue channels\n",
    "print(\"Image shape:\", image_array.shape)\n",
    "print(\"Image size:\", image.size)\n",
    "\n",
    "fig , ax = plt.subplots(1, 4, figsize=(20, 5))\n",
    "ax[0].imshow(image)\n",
    "ax[0].set_title('Original Image')\n",
    "ax[0].axis('off')\n",
    "ax[1].imshow(image_array[:, :, 0], cmap='Reds')\n",
    "ax[1].set_title('Red Channel')\n",
    "ax[1].axis('off')\n",
    "print(\"Image array shape red:\", image_array[:, :, 0].shape)\n",
    "ax[2].imshow(image_array[:, :, 1], cmap='Greens')\n",
    "ax[2].set_title('Green Channel')\n",
    "ax[2].axis('off')\n",
    "print(\"Image array shape green:\", image_array[:, :, 1].shape)\n",
    "ax[3].imshow(image_array[:, :, 2], cmap='Blues')\n",
    "ax[3].set_title('Blue Channel')\n",
    "ax[3].axis('off')\n",
    "print"
   ]
  },
  {
   "cell_type": "markdown",
   "id": "05e8e7f9",
   "metadata": {},
   "source": [
    "## Draw rectangle Area and Label"
   ]
  },
  {
   "cell_type": "code",
   "execution_count": null,
   "id": "a1336d7d",
   "metadata": {},
   "outputs": [],
   "source": [
    "fig, ax = plt.subplots(1, 1, figsize=(6, 4))\n",
    "ax.imshow(image_array)\n",
    "\n",
    "x1, y1, x2, y2 = (100, 200, 800, 600)\n",
    "confidence = 0.4\n",
    "class_name = 'anything'\n",
    "\n",
    "color = 'red'\n",
    "\n",
    "width = x2 - x1\n",
    "height = y2 - y1\n",
    "rect = patches.Rectangle((x1, y1), width, height,\n",
    "                         linewidth=2, edgecolor=color, facecolor='none')\n",
    "ax.add_patch(rect)\n",
    "\n",
    "\n",
    "label = f\"{class_name}: {confidence:.1%}\"\n",
    "ax.text(x1, y1 - 10, label, fontsize=10, color='white',\n",
    "        bbox=dict(boxstyle=\"round,pad=0.3\", facecolor=color, alpha=0.8))\n",
    "\n",
    "\n",
    "\n",
    "ax.text(x1, y1 + 15, f\"({x1}, {y1})\", fontsize=9, color='yellow',\n",
    "        bbox=dict(facecolor='black', alpha=0.5, pad=1))\n",
    "\n",
    "\n",
    "ax.text(x2 - 100, y2 - 10, f\"({x2}, {y2})\", fontsize=9, color='yellow',\n",
    "        bbox=dict(facecolor='black', alpha=0.5, pad=1))\n",
    "\n",
    "\n",
    "plt.tight_layout()\n",
    "plt.show()"
   ]
  },
  {
   "cell_type": "markdown",
   "id": "44bae0bb",
   "metadata": {},
   "source": [
    "## Download YOLO Model\n",
    "    สำหรับ YOLO Model นั้นมีหลาย Task ที่ สามารถทำงานได้\n",
    "<img src=\"https://lh3.googleusercontent.com/d/13pZPUo_FT-qKD97bhJL4JEu7SdQS2plO\" alt=\"\">"
   ]
  },
  {
   "cell_type": "code",
   "execution_count": null,
   "id": "cb4c5a28",
   "metadata": {},
   "outputs": [],
   "source": [
    "model = YOLO('yolov8n.pt')\n",
    "print(model.names)"
   ]
  },
  {
   "cell_type": "markdown",
   "id": "b31ad4ac",
   "metadata": {},
   "source": [
    "## YOLO Detection"
   ]
  },
  {
   "cell_type": "code",
   "execution_count": null,
   "id": "555f2e30",
   "metadata": {},
   "outputs": [],
   "source": [
    "results = model(image_array, conf=0.5)\n",
    "detections = results[0].boxes\n",
    "\n",
    "plt.imshow(image_array)\n",
    "plt.axis('off')\n",
    "\n",
    "boxes = detections.xyxy.cpu().numpy()  # x1, y1, x2, y2\n",
    "confidences = detections.conf.cpu().numpy()  # confidence scores\n",
    "class_ids = detections.cls.cpu().numpy()  # class IDs\n",
    "\n",
    "print(f\"Found {len(boxes)} objects!\")\n",
    "\n",
    "# Print each detection\n",
    "for i in range(len(boxes)):\n",
    "    x1, y1, x2, y2 = boxes[i]\n",
    "    confidence = confidences[i]\n",
    "    class_name = model.names[int(class_ids[i])]\n",
    "\n",
    "    print(f\"{i+1}. {class_name}: {confidence:.1%}\")\n",
    "    print(f\"   Position: ({x1:.0f}, {y1:.0f}) to ({x2:.0f}, {y2:.0f})\")"
   ]
  },
  {
   "cell_type": "markdown",
   "id": "d1648f5c",
   "metadata": {},
   "source": [
    "## Result Detection"
   ]
  },
  {
   "cell_type": "code",
   "execution_count": null,
   "id": "b069ced6",
   "metadata": {},
   "outputs": [],
   "source": [
    "fig, ax = plt.subplots(1, 1, figsize=(6, 4))\n",
    "ax.imshow(image_array)\n",
    "\n",
    "# Draw each detection\n",
    "if len(detections) > 0:\n",
    "    # Colors for different object types\n",
    "    colors = ['red', 'blue', 'green', 'yellow', 'purple', 'orange', 'pink', 'brown', 'gray', 'cyan']\n",
    "\n",
    "    for i in range(len(boxes)):\n",
    "        x1, y1, x2, y2 = boxes[i]\n",
    "        confidence = confidences[i]\n",
    "        class_name = model.names[int(class_ids[i])]\n",
    "\n",
    "        # Choose color\n",
    "        color = colors[i % len(colors)]\n",
    "\n",
    "        # Draw rectangle\n",
    "        width = x2 - x1\n",
    "        height = y2 - y1\n",
    "        rect = patches.Rectangle((x1, y1), width, height,\n",
    "                               linewidth=2, edgecolor=color, facecolor='none')\n",
    "        ax.add_patch(rect)\n",
    "\n",
    "        # Add label\n",
    "        label = f\"{class_name}: {confidence:.1%}\"\n",
    "        ax.text(x1, y1-5, label, fontsize=10, color='white',\n",
    "               bbox=dict(boxstyle=\"round,pad=0.3\", facecolor=color, alpha=0.8))\n",
    "\n",
    "ax.set_title(f'🎯 Object Detection Results - {len(detections) if len(detections) > 0 else 0} objects found')\n",
    "ax.axis('off')\n",
    "plt.tight_layout()\n",
    "plt.show()"
   ]
  },
  {
   "cell_type": "markdown",
   "id": "2a3e063f",
   "metadata": {},
   "source": [
    "## Train Model\n",
    "\n",
    "<img src=\"https://lh3.googleusercontent.com/d/1Mk6EGpMIP2oeyis4ShH3zHDyhOTkjLaT\" alt=\"\">"
   ]
  },
  {
   "cell_type": "code",
   "execution_count": null,
   "id": "09027b4b",
   "metadata": {},
   "outputs": [],
   "source": [
    "!unzip Anime-detecter.v2i.yolov8.zip"
   ]
  },
  {
   "cell_type": "code",
   "execution_count": null,
   "id": "76da7153",
   "metadata": {},
   "outputs": [],
   "source": [
    "directory_path_train = \"train/images/\"\n",
    "\n",
    "file_name = [f for f in os.listdir(directory_path_train)]\n",
    "num_images = len(file_name)\n",
    "file_simple = random.sample(file_name, 30)\n",
    "\n",
    "fig, axs = plt.subplots(5, 6 ,figsize=(10 , 5))\n",
    "for i, ax in enumerate(axs.flat):\n",
    "    if i < len(file_simple):\n",
    "        ax.imshow(Image.open(os.path.join(directory_path_train, file_simple[i])))\n",
    "        ax.axis('off')\n",
    "    else:\n",
    "        ax.axis('off') "
   ]
  },
  {
   "cell_type": "code",
   "execution_count": null,
   "id": "7d8413da",
   "metadata": {},
   "outputs": [],
   "source": [
    "#Training a YOLO model\n",
    "model = YOLO('yolov8n.pt')\n",
    "\n",
    "model.train(data=\"data.yaml\", epochs=5, imgsz=640 , device='0')"
   ]
  },
  {
   "cell_type": "code",
   "execution_count": null,
   "id": "96c5f5b2",
   "metadata": {},
   "outputs": [],
   "source": [
    "newmodel = YOLO(\"best.pt\")  # Load the trained model\n",
    "model = YOLO(\"yolov8n.pt\")  # Load the original model\n",
    "\n",
    "dictionary_path_test = \"test/images/\"\n",
    "file_name_test = [f for f in os.listdir(dictionary_path_test)] # Replace with your directory path\n",
    "\n",
    "\n",
    "\n",
    "\n",
    "Img = \"test/images/\" + file_name_test[0]  # Replace with your image path\n",
    "\n",
    "resultmodel = model(Img)\n",
    "resultnewmodel = newmodel(Img)\n",
    "img1 = resultmodel[0].plot()        # Original model\n",
    "img2 = resultnewmodel[0].plot()     # Trained model\n",
    "\n",
    "# Convert BGR to RGB for matplotlib\n",
    "img1_rgb = cv2.cvtColor(img1, cv2.COLOR_BGR2RGB)\n",
    "img2_rgb = cv2.cvtColor(img2, cv2.COLOR_BGR2RGB)\n",
    "\n",
    "# Plot side-by-side\n",
    "fig, axs = plt.subplots(1, 2, figsize=(12, 6))\n",
    "axs[0].imshow(img1_rgb)\n",
    "axs[0].set_title(\"Original Model\")\n",
    "axs[0].axis('off')\n",
    "\n",
    "axs[1].imshow(img2_rgb)\n",
    "axs[1].set_title(\"Trained Model\")\n",
    "axs[1].axis('off')\n",
    "\n",
    "plt.tight_layout()\n",
    "plt.show()"
   ]
  },
  {
   "cell_type": "code",
   "execution_count": null,
   "id": "041c761c",
   "metadata": {},
   "outputs": [],
   "source": [
    "for i in range(len(file_name_test)):\n",
    "    Img = os.path.join(dictionary_path_test, file_name_test[i])\n",
    "    result = newmodel(Img)\n",
    "    result[0].show()  # Show the detection results for each image"
   ]
  }
 ],
 "metadata": {
  "kernelspec": {
   "display_name": "yolo",
   "language": "python",
   "name": "python3"
  },
  "language_info": {
   "codemirror_mode": {
    "name": "ipython",
    "version": 3
   },
   "file_extension": ".py",
   "mimetype": "text/x-python",
   "name": "python",
   "nbconvert_exporter": "python",
   "pygments_lexer": "ipython3",
   "version": "3.11.13"
  }
 },
 "nbformat": 4,
 "nbformat_minor": 5
}
